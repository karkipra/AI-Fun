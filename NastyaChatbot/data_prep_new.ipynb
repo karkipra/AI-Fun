{
 "cells": [
  {
   "cell_type": "markdown",
   "metadata": {},
   "source": [
    "# Nastya Chatbot Data Preparation (with new data!)\n",
    "\n",
    "New data here! Should hopefully make a better chatbot"
   ]
  },
  {
   "cell_type": "code",
   "execution_count": 13,
   "metadata": {},
   "outputs": [],
   "source": [
    "import json\n",
    "import glob\n",
    "import os"
   ]
  },
  {
   "cell_type": "markdown",
   "metadata": {},
   "source": [
    "### Putting all the JSONs into one JSON file"
   ]
  },
  {
   "cell_type": "code",
   "execution_count": 24,
   "metadata": {},
   "outputs": [],
   "source": [
    "path_to_json ='facebook-anastasiiam/messages/inbox/'\n",
    "output_dir = 'data/merged_nastya_messages.json'"
   ]
  },
  {
   "cell_type": "code",
   "execution_count": 37,
   "metadata": {},
   "outputs": [],
   "source": [
    "# Defining the pandas dataframe with the columns I want\n",
    "json_data = pd.DataFrame(columns=['content', 'sender_name', 'timestamp_ms'])\n",
    "\n",
    "files = []\n",
    "for folder in os.listdir(path_to_json):\n",
    "    files.append(folder)"
   ]
  },
  {
   "cell_type": "code",
   "execution_count": 38,
   "metadata": {},
   "outputs": [],
   "source": [
    "# Getting both json and index number\n",
    "msg_index = 0\n",
    "\n",
    "# Iterate through all the json files in the subdirectories\n",
    "for file in files:\n",
    "    \n",
    "    curr_path = path_to_json + file\n",
    "    json_files = [pos_json for pos_json in os.listdir(curr_path) if pos_json.endswith('.json')]\n",
    "\n",
    "    for index, js in enumerate(json_files):\n",
    "        with open(os.path.join(curr_path, js)) as json_file:\n",
    "            json_text = json.load(json_file)\n",
    "\n",
    "            for message in json_text['messages']:\n",
    "                if 'content' in message:\n",
    "                    content = message['content']\n",
    "                    sender_name = message['sender_name']\n",
    "                    timestamp_ms = message['timestamp_ms']\n",
    "\n",
    "                    #putting the data list into a row at index \n",
    "                    json_data.loc[msg_index] = [content, sender_name, timestamp_ms]\n",
    "                    #updating the message index\n",
    "                    msg_index+=1"
   ]
  },
  {
   "cell_type": "code",
   "execution_count": 40,
   "metadata": {},
   "outputs": [
    {
     "data": {
      "text/html": [
       "<div>\n",
       "<style scoped>\n",
       "    .dataframe tbody tr th:only-of-type {\n",
       "        vertical-align: middle;\n",
       "    }\n",
       "\n",
       "    .dataframe tbody tr th {\n",
       "        vertical-align: top;\n",
       "    }\n",
       "\n",
       "    .dataframe thead th {\n",
       "        text-align: right;\n",
       "    }\n",
       "</style>\n",
       "<table border=\"1\" class=\"dataframe\">\n",
       "  <thead>\n",
       "    <tr style=\"text-align: right;\">\n",
       "      <th></th>\n",
       "      <th>content</th>\n",
       "      <th>sender_name</th>\n",
       "      <th>timestamp_ms</th>\n",
       "    </tr>\n",
       "  </thead>\n",
       "  <tbody>\n",
       "    <tr>\n",
       "      <td>0</td>\n",
       "      <td>facebook me if you are coming to the dinner? p...</td>\n",
       "      <td>Deka Abdirahman</td>\n",
       "      <td>1410973204870</td>\n",
       "    </tr>\n",
       "    <tr>\n",
       "      <td>1</td>\n",
       "      <td>everyone is welcomed to join us that would be ...</td>\n",
       "      <td>Deka Abdirahman</td>\n",
       "      <td>1410917500280</td>\n",
       "    </tr>\n",
       "    <tr>\n",
       "      <td>2</td>\n",
       "      <td>send the birthday notes and gifts to Helena an...</td>\n",
       "      <td>Deka Abdirahman</td>\n",
       "      <td>1410917468397</td>\n",
       "    </tr>\n",
       "    <tr>\n",
       "      <td>3</td>\n",
       "      <td>Yeah will do</td>\n",
       "      <td>Karnika Arora</td>\n",
       "      <td>1410917423351</td>\n",
       "    </tr>\n",
       "    <tr>\n",
       "      <td>4</td>\n",
       "      <td>Hahahah okay I'm so confused</td>\n",
       "      <td>Karnika Arora</td>\n",
       "      <td>1410917403573</td>\n",
       "    </tr>\n",
       "  </tbody>\n",
       "</table>\n",
       "</div>"
      ],
      "text/plain": [
       "                                             content      sender_name  \\\n",
       "0  facebook me if you are coming to the dinner? p...  Deka Abdirahman   \n",
       "1  everyone is welcomed to join us that would be ...  Deka Abdirahman   \n",
       "2  send the birthday notes and gifts to Helena an...  Deka Abdirahman   \n",
       "3                                       Yeah will do    Karnika Arora   \n",
       "4                       Hahahah okay I'm so confused    Karnika Arora   \n",
       "\n",
       "    timestamp_ms  \n",
       "0  1410973204870  \n",
       "1  1410917500280  \n",
       "2  1410917468397  \n",
       "3  1410917423351  \n",
       "4  1410917403573  "
      ]
     },
     "execution_count": 40,
     "metadata": {},
     "output_type": "execute_result"
    }
   ],
   "source": [
    "json_data.head()"
   ]
  },
  {
   "cell_type": "code",
   "execution_count": 41,
   "metadata": {},
   "outputs": [],
   "source": [
    "json_data.to_csv('data/merged_data.csv')"
   ]
  },
  {
   "cell_type": "code",
   "execution_count": null,
   "metadata": {},
   "outputs": [],
   "source": []
  }
 ],
 "metadata": {
  "kernelspec": {
   "display_name": "Python 3",
   "language": "python",
   "name": "python3"
  },
  "language_info": {
   "codemirror_mode": {
    "name": "ipython",
    "version": 3
   },
   "file_extension": ".py",
   "mimetype": "text/x-python",
   "name": "python",
   "nbconvert_exporter": "python",
   "pygments_lexer": "ipython3",
   "version": "3.7.4"
  }
 },
 "nbformat": 4,
 "nbformat_minor": 2
}
