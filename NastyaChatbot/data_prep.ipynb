{
 "cells": [
  {
   "cell_type": "markdown",
   "metadata": {},
   "source": [
    "# Nastya Chatbot Data Preparation\n",
    "\n",
    "TODO write about this\n",
    "\n",
    "References: \n",
    "- https://stackoverflow.com/questions/30539679/python-read-several-json-files-from-a-folder"
   ]
  },
  {
   "cell_type": "code",
   "execution_count": 1,
   "metadata": {},
   "outputs": [],
   "source": [
    "import json\n",
    "import os\n",
    "import pandas as pd"
   ]
  },
  {
   "cell_type": "markdown",
   "metadata": {},
   "source": [
    "### Setting the JSON path and getting the data"
   ]
  },
  {
   "cell_type": "code",
   "execution_count": 2,
   "metadata": {},
   "outputs": [],
   "source": [
    "# Home directory path\n",
    "path_to_json = 'data/'\n",
    "json_files = [pos_json for pos_json in os.listdir(path_to_json) if pos_json.endswith('.json')]\n",
    "\n",
    "# Defining the pandas dataframe with the columns I want\n",
    "json_data = pd.DataFrame(columns=['content', 'sender_name', 'timestamp_ms'])"
   ]
  },
  {
   "cell_type": "code",
   "execution_count": 3,
   "metadata": {},
   "outputs": [],
   "source": [
    "# Getting both json and index number\n",
    "msg_index = 0\n",
    "\n",
    "for index, js in enumerate(json_files):\n",
    "    with open(os.path.join(path_to_json, js)) as json_file:\n",
    "        json_text = json.load(json_file)\n",
    "        \n",
    "        for message in json_text['messages']:\n",
    "            if 'content' in message:\n",
    "                content = message['content']\n",
    "                sender_name = message['sender_name']\n",
    "                timestamp_ms = message['timestamp_ms']\n",
    "\n",
    "                #putting the data list into a row at index \n",
    "                json_data.loc[msg_index] = [content, sender_name, timestamp_ms]\n",
    "                #updating the message index\n",
    "                msg_index+=1"
   ]
  },
  {
   "cell_type": "code",
   "execution_count": 4,
   "metadata": {},
   "outputs": [
    {
     "data": {
      "text/html": [
       "<div>\n",
       "<style scoped>\n",
       "    .dataframe tbody tr th:only-of-type {\n",
       "        vertical-align: middle;\n",
       "    }\n",
       "\n",
       "    .dataframe tbody tr th {\n",
       "        vertical-align: top;\n",
       "    }\n",
       "\n",
       "    .dataframe thead th {\n",
       "        text-align: right;\n",
       "    }\n",
       "</style>\n",
       "<table border=\"1\" class=\"dataframe\">\n",
       "  <thead>\n",
       "    <tr style=\"text-align: right;\">\n",
       "      <th></th>\n",
       "      <th>content</th>\n",
       "      <th>sender_name</th>\n",
       "      <th>timestamp_ms</th>\n",
       "    </tr>\n",
       "  </thead>\n",
       "  <tbody>\n",
       "    <tr>\n",
       "      <td>0</td>\n",
       "      <td>Okay babes</td>\n",
       "      <td>Anastasiia Morozova</td>\n",
       "      <td>1582067120307</td>\n",
       "    </tr>\n",
       "    <tr>\n",
       "      <td>1</td>\n",
       "      <td>!!!</td>\n",
       "      <td>Pratik Karki</td>\n",
       "      <td>1582067116590</td>\n",
       "    </tr>\n",
       "    <tr>\n",
       "      <td>2</td>\n",
       "      <td>I just got done</td>\n",
       "      <td>Pratik Karki</td>\n",
       "      <td>1582067113534</td>\n",
       "    </tr>\n",
       "    <tr>\n",
       "      <td>3</td>\n",
       "      <td>I thought you were done!</td>\n",
       "      <td>Anastasiia Morozova</td>\n",
       "      <td>1582067104121</td>\n",
       "    </tr>\n",
       "    <tr>\n",
       "      <td>4</td>\n",
       "      <td>The person was a annoying ones</td>\n",
       "      <td>Pratik Karki</td>\n",
       "      <td>1582067101785</td>\n",
       "    </tr>\n",
       "  </tbody>\n",
       "</table>\n",
       "</div>"
      ],
      "text/plain": [
       "                          content          sender_name   timestamp_ms\n",
       "0                      Okay babes  Anastasiia Morozova  1582067120307\n",
       "1                             !!!         Pratik Karki  1582067116590\n",
       "2                 I just got done         Pratik Karki  1582067113534\n",
       "3        I thought you were done!  Anastasiia Morozova  1582067104121\n",
       "4  The person was a annoying ones         Pratik Karki  1582067101785"
      ]
     },
     "execution_count": 4,
     "metadata": {},
     "output_type": "execute_result"
    }
   ],
   "source": [
    "json_data.head()"
   ]
  },
  {
   "cell_type": "code",
   "execution_count": null,
   "metadata": {},
   "outputs": [],
   "source": []
  }
 ],
 "metadata": {
  "kernelspec": {
   "display_name": "Python 3",
   "language": "python",
   "name": "python3"
  },
  "language_info": {
   "codemirror_mode": {
    "name": "ipython",
    "version": 3
   },
   "file_extension": ".py",
   "mimetype": "text/x-python",
   "name": "python",
   "nbconvert_exporter": "python",
   "pygments_lexer": "ipython3",
   "version": "3.7.4"
  }
 },
 "nbformat": 4,
 "nbformat_minor": 2
}
