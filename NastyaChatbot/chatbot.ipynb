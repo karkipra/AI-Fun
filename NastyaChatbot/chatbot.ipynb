{
 "cells": [
  {
   "cell_type": "markdown",
   "metadata": {},
   "source": [
    "# Nastya Chatbot Implementation\n",
    "\n",
    "TODO write here\n",
    "\n",
    "References:\n",
    "\n",
    "- https://towardsdatascience.com/how-to-build-an-easy-quick-and-essentially-useless-chatbot-using-your-own-text-messages-f2cb8b84c11d"
   ]
  },
  {
   "cell_type": "code",
   "execution_count": 4,
   "metadata": {},
   "outputs": [],
   "source": [
    "import pandas as pd\n",
    "from string import punctuation"
   ]
  },
  {
   "cell_type": "markdown",
   "metadata": {},
   "source": [
    "### 1. Getting the data to the format we want it to be in"
   ]
  },
  {
   "cell_type": "markdown",
   "metadata": {},
   "source": [
    "Reading in the CSV file"
   ]
  },
  {
   "cell_type": "code",
   "execution_count": 5,
   "metadata": {},
   "outputs": [
    {
     "data": {
      "text/html": [
       "<div>\n",
       "<style scoped>\n",
       "    .dataframe tbody tr th:only-of-type {\n",
       "        vertical-align: middle;\n",
       "    }\n",
       "\n",
       "    .dataframe tbody tr th {\n",
       "        vertical-align: top;\n",
       "    }\n",
       "\n",
       "    .dataframe thead th {\n",
       "        text-align: right;\n",
       "    }\n",
       "</style>\n",
       "<table border=\"1\" class=\"dataframe\">\n",
       "  <thead>\n",
       "    <tr style=\"text-align: right;\">\n",
       "      <th></th>\n",
       "      <th>content</th>\n",
       "      <th>sender_name</th>\n",
       "      <th>timestamp_ms</th>\n",
       "    </tr>\n",
       "  </thead>\n",
       "  <tbody>\n",
       "    <tr>\n",
       "      <td>0</td>\n",
       "      <td>Okay babes</td>\n",
       "      <td>Anastasiia Morozova</td>\n",
       "      <td>1582067120307</td>\n",
       "    </tr>\n",
       "    <tr>\n",
       "      <td>1</td>\n",
       "      <td>!!!</td>\n",
       "      <td>Pratik Karki</td>\n",
       "      <td>1582067116590</td>\n",
       "    </tr>\n",
       "    <tr>\n",
       "      <td>2</td>\n",
       "      <td>I just got done</td>\n",
       "      <td>Pratik Karki</td>\n",
       "      <td>1582067113534</td>\n",
       "    </tr>\n",
       "    <tr>\n",
       "      <td>3</td>\n",
       "      <td>I thought you were done!</td>\n",
       "      <td>Anastasiia Morozova</td>\n",
       "      <td>1582067104121</td>\n",
       "    </tr>\n",
       "    <tr>\n",
       "      <td>4</td>\n",
       "      <td>The person was a annoying ones</td>\n",
       "      <td>Pratik Karki</td>\n",
       "      <td>1582067101785</td>\n",
       "    </tr>\n",
       "  </tbody>\n",
       "</table>\n",
       "</div>"
      ],
      "text/plain": [
       "                          content          sender_name   timestamp_ms\n",
       "0                      Okay babes  Anastasiia Morozova  1582067120307\n",
       "1                             !!!         Pratik Karki  1582067116590\n",
       "2                 I just got done         Pratik Karki  1582067113534\n",
       "3        I thought you were done!  Anastasiia Morozova  1582067104121\n",
       "4  The person was a annoying ones         Pratik Karki  1582067101785"
      ]
     },
     "execution_count": 5,
     "metadata": {},
     "output_type": "execute_result"
    }
   ],
   "source": [
    "df = pd.read_csv('data/message_data.csv', index_col=[0])\n",
    "df.head()"
   ]
  },
  {
   "cell_type": "markdown",
   "metadata": {},
   "source": [
    "Sorting the dataframe by date"
   ]
  },
  {
   "cell_type": "code",
   "execution_count": 6,
   "metadata": {},
   "outputs": [
    {
     "data": {
      "text/html": [
       "<div>\n",
       "<style scoped>\n",
       "    .dataframe tbody tr th:only-of-type {\n",
       "        vertical-align: middle;\n",
       "    }\n",
       "\n",
       "    .dataframe tbody tr th {\n",
       "        vertical-align: top;\n",
       "    }\n",
       "\n",
       "    .dataframe thead th {\n",
       "        text-align: right;\n",
       "    }\n",
       "</style>\n",
       "<table border=\"1\" class=\"dataframe\">\n",
       "  <thead>\n",
       "    <tr style=\"text-align: right;\">\n",
       "      <th></th>\n",
       "      <th>index</th>\n",
       "      <th>content</th>\n",
       "      <th>sender_name</th>\n",
       "      <th>timestamp_ms</th>\n",
       "    </tr>\n",
       "  </thead>\n",
       "  <tbody>\n",
       "    <tr>\n",
       "      <td>0</td>\n",
       "      <td>182484</td>\n",
       "      <td>Cool</td>\n",
       "      <td>Anastasiia Morozova</td>\n",
       "      <td>1508118080364</td>\n",
       "    </tr>\n",
       "    <tr>\n",
       "      <td>1</td>\n",
       "      <td>182483</td>\n",
       "      <td>That was a quick reply</td>\n",
       "      <td>Pratik Karki</td>\n",
       "      <td>1508386653307</td>\n",
       "    </tr>\n",
       "    <tr>\n",
       "      <td>2</td>\n",
       "      <td>182482</td>\n",
       "      <td>Took me a while to realize how cool this fact is.</td>\n",
       "      <td>Anastasiia Morozova</td>\n",
       "      <td>1508417569122</td>\n",
       "    </tr>\n",
       "    <tr>\n",
       "      <td>3</td>\n",
       "      <td>182481</td>\n",
       "      <td>Lol</td>\n",
       "      <td>Pratik Karki</td>\n",
       "      <td>1508421997827</td>\n",
       "    </tr>\n",
       "    <tr>\n",
       "      <td>4</td>\n",
       "      <td>182480</td>\n",
       "      <td>That's kinda mean</td>\n",
       "      <td>Pratik Karki</td>\n",
       "      <td>1508422003040</td>\n",
       "    </tr>\n",
       "  </tbody>\n",
       "</table>\n",
       "</div>"
      ],
      "text/plain": [
       "    index                                            content  \\\n",
       "0  182484                                               Cool   \n",
       "1  182483                             That was a quick reply   \n",
       "2  182482  Took me a while to realize how cool this fact is.   \n",
       "3  182481                                                Lol   \n",
       "4  182480                                  That's kinda mean   \n",
       "\n",
       "           sender_name   timestamp_ms  \n",
       "0  Anastasiia Morozova  1508118080364  \n",
       "1         Pratik Karki  1508386653307  \n",
       "2  Anastasiia Morozova  1508417569122  \n",
       "3         Pratik Karki  1508421997827  \n",
       "4         Pratik Karki  1508422003040  "
      ]
     },
     "execution_count": 6,
     "metadata": {},
     "output_type": "execute_result"
    }
   ],
   "source": [
    "df.sort_values(by='timestamp_ms', inplace=True)\n",
    "df.reset_index(inplace=True)\n",
    "df.head()"
   ]
  },
  {
   "cell_type": "markdown",
   "metadata": {},
   "source": [
    "Adding `is_from_me` column and dropping `index`"
   ]
  },
  {
   "cell_type": "code",
   "execution_count": 7,
   "metadata": {},
   "outputs": [
    {
     "data": {
      "text/html": [
       "<div>\n",
       "<style scoped>\n",
       "    .dataframe tbody tr th:only-of-type {\n",
       "        vertical-align: middle;\n",
       "    }\n",
       "\n",
       "    .dataframe tbody tr th {\n",
       "        vertical-align: top;\n",
       "    }\n",
       "\n",
       "    .dataframe thead th {\n",
       "        text-align: right;\n",
       "    }\n",
       "</style>\n",
       "<table border=\"1\" class=\"dataframe\">\n",
       "  <thead>\n",
       "    <tr style=\"text-align: right;\">\n",
       "      <th></th>\n",
       "      <th>content</th>\n",
       "      <th>sender_name</th>\n",
       "      <th>timestamp_ms</th>\n",
       "      <th>is_from_me</th>\n",
       "    </tr>\n",
       "  </thead>\n",
       "  <tbody>\n",
       "    <tr>\n",
       "      <td>0</td>\n",
       "      <td>Cool</td>\n",
       "      <td>Anastasiia Morozova</td>\n",
       "      <td>1508118080364</td>\n",
       "      <td>0</td>\n",
       "    </tr>\n",
       "    <tr>\n",
       "      <td>1</td>\n",
       "      <td>That was a quick reply</td>\n",
       "      <td>Pratik Karki</td>\n",
       "      <td>1508386653307</td>\n",
       "      <td>1</td>\n",
       "    </tr>\n",
       "    <tr>\n",
       "      <td>2</td>\n",
       "      <td>Took me a while to realize how cool this fact is.</td>\n",
       "      <td>Anastasiia Morozova</td>\n",
       "      <td>1508417569122</td>\n",
       "      <td>0</td>\n",
       "    </tr>\n",
       "    <tr>\n",
       "      <td>3</td>\n",
       "      <td>Lol</td>\n",
       "      <td>Pratik Karki</td>\n",
       "      <td>1508421997827</td>\n",
       "      <td>1</td>\n",
       "    </tr>\n",
       "    <tr>\n",
       "      <td>4</td>\n",
       "      <td>That's kinda mean</td>\n",
       "      <td>Pratik Karki</td>\n",
       "      <td>1508422003040</td>\n",
       "      <td>1</td>\n",
       "    </tr>\n",
       "  </tbody>\n",
       "</table>\n",
       "</div>"
      ],
      "text/plain": [
       "                                             content          sender_name  \\\n",
       "0                                               Cool  Anastasiia Morozova   \n",
       "1                             That was a quick reply         Pratik Karki   \n",
       "2  Took me a while to realize how cool this fact is.  Anastasiia Morozova   \n",
       "3                                                Lol         Pratik Karki   \n",
       "4                                  That's kinda mean         Pratik Karki   \n",
       "\n",
       "    timestamp_ms is_from_me  \n",
       "0  1508118080364          0  \n",
       "1  1508386653307          1  \n",
       "2  1508417569122          0  \n",
       "3  1508421997827          1  \n",
       "4  1508422003040          1  "
      ]
     },
     "execution_count": 7,
     "metadata": {},
     "output_type": "execute_result"
    }
   ],
   "source": [
    "df['is_from_me'] = ['1' if x == 'Pratik Karki' else '0' for x in df['sender_name']]\n",
    "df.drop('index', axis=1, inplace=True)\n",
    "df.head()"
   ]
  },
  {
   "cell_type": "markdown",
   "metadata": {},
   "source": [
    "### 2. Now we can make training data\n",
    "\n",
    "For this, we want to create a dataframe with `text` and `response` columns"
   ]
  },
  {
   "cell_type": "code",
   "execution_count": 8,
   "metadata": {},
   "outputs": [],
   "source": [
    "#remove the nulls\n",
    "df.dropna(subset = ['content'], inplace=True)\n",
    "\n",
    "#helper functions\n",
    "def make_sentences(series):\n",
    "    return '. '.join(series)\n",
    "\n",
    "#initiliaze empty df\n",
    "train_data = pd.DataFrame(columns = ['text','response'])"
   ]
  },
  {
   "cell_type": "code",
   "execution_count": 16,
   "metadata": {},
   "outputs": [
    {
     "name": "stdout",
     "output_type": "stream",
     "text": [
      "Hello.. Its me\n"
     ]
    }
   ],
   "source": [
    "test_df = pd.DataFrame(df).set_index('id')[:100].copy(deep=True)"
   ]
  },
  {
   "cell_type": "code",
   "execution_count": null,
   "metadata": {},
   "outputs": [],
   "source": [
    "# store current text and response sentences\n",
    "text_sentence = []\n",
    "response_sentence = []\n",
    "\n",
    "# put all the weird characters here that we want to remove from the \n",
    "bad_strings = [\"\\u00e0\", \"\\u00e4\", \"\\u00e2\", \"\\u00e7\", \"\\u00e8\", \"\\u00e9\", \"\\u00ea\",\"\\u00eb\", \"\\u00ee\", \"\\u00ef\"\n",
    "               ,\"\\u00f4\", \"\\u00f6\", \"\\u00f9\", \"\\u00fb\", \"\\u00fc\"]\n",
    "\n",
    "#  \tcontent\t                         sender_name\t     timestamp_ms\t is_from_me\n",
    "#0 \tCool\t                       Anastasiia Morozova\t1508118080364\t 0\n",
    "#1 \tThat was a quick reply\t         Pratik Karki\t    1508386653307\t 1\n",
    "#\n",
    "\n",
    "train_data_row = 0\n",
    "\n",
    "#iterate through each convo\n",
    "for index, row in df.iterrows():\n",
    "    # retrieve current text and remove end punctuation\n",
    "    curr_string = row['content'].rstrip(punctuation)\n",
    "    \n",
    "    if(row[is_from_me]):\n",
    "        # going from response to text\n",
    "        if len(response_sentence) > 0:\n",
    "            sentence = make_sentence(response_sentence)\n",
    "            train_data[train_data_row]['response'] = sentence\n",
    "            response_sentence.clear()\n",
    "            train_data_row+=1 # only increment when response is over\n",
    "        text_sentence.append(curr_string)\n",
    "    else:\n",
    "        if len(text_sentence) > 0:\n",
    "            sentence = make_sentence(text_sentence)\n",
    "            train_data[train_data_row]['text'] = sentence\n",
    "            text_sentence.clear()\n",
    "        response_sentence.append(curr_string)\n",
    "\n",
    "        "
   ]
  },
  {
   "cell_type": "code",
   "execution_count": null,
   "metadata": {},
   "outputs": [],
   "source": []
  }
 ],
 "metadata": {
  "kernelspec": {
   "display_name": "Python 3",
   "language": "python",
   "name": "python3"
  },
  "language_info": {
   "codemirror_mode": {
    "name": "ipython",
    "version": 3
   },
   "file_extension": ".py",
   "mimetype": "text/x-python",
   "name": "python",
   "nbconvert_exporter": "python",
   "pygments_lexer": "ipython3",
   "version": "3.7.4"
  }
 },
 "nbformat": 4,
 "nbformat_minor": 2
}
