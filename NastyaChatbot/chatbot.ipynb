{
 "cells": [
  {
   "attachments": {
    "image.png": {
     "image/png": "[encoded data removed]"
    }
   },
   "cell_type": "markdown",
   "metadata": {},
   "source": [
    "# Nastya Chatbot Implementation\n",
    "\n",
    "This is the final chatbot using elasticsearch\n",
    "\n",
    "Using TF-IDF implementation:\n",
    "\n",
    "![image.png](attachment:image.png)\n",
    "\n",
    "References: \n",
    "- https://en.wikipedia.org/wiki/Tf%E2%80%93idf\n",
    "- https://towardsdatascience.com/how-to-build-an-easy-quick-and-essentially-useless-chatbot-using-your-own-text-messages-f2cb8b84c11d\n",
    "\n",
    "\n",
    "__UPDATE__ We're in chatbot V2.0! Lots more data and much better quality at that."
   ]
  },
  {
   "cell_type": "code",
   "execution_count": 1,
   "metadata": {},
   "outputs": [],
   "source": [
    "import pandas as pd\n",
    "from elasticsearch import Elasticsearch\n",
    "from elasticsearch.helpers import bulk"
   ]
  },
  {
   "cell_type": "markdown",
   "metadata": {},
   "source": [
    "Read training dataset"
   ]
  },
  {
   "cell_type": "code",
   "execution_count": 2,
   "metadata": {},
   "outputs": [
    {
     "name": "stdout",
     "output_type": "stream",
     "text": [
      "Index(['text', 'response'], dtype='object')\n"
     ]
    },
    {
     "data": {
      "text/html": [
       "<div>\n",
       "<style scoped>\n",
       "    .dataframe tbody tr th:only-of-type {\n",
       "        vertical-align: middle;\n",
       "    }\n",
       "\n",
       "    .dataframe tbody tr th {\n",
       "        vertical-align: top;\n",
       "    }\n",
       "\n",
       "    .dataframe thead th {\n",
       "        text-align: right;\n",
       "    }\n",
       "</style>\n",
       "<table border=\"1\" class=\"dataframe\">\n",
       "  <thead>\n",
       "    <tr style=\"text-align: right;\">\n",
       "      <th></th>\n",
       "      <th>text</th>\n",
       "      <th>response</th>\n",
       "    </tr>\n",
       "  </thead>\n",
       "  <tbody>\n",
       "    <tr>\n",
       "      <td>0</td>\n",
       "      <td>) )        ?))))     -</td>\n",
       "      <td>\" \" ,  \" \"     ,</td>\n",
       "    </tr>\n",
       "    <tr>\n",
       "      <td>1</td>\n",
       "      <td>!!!!!  ,     ))   ??  ?)))</td>\n",
       "      <td>,    )))) )   ?  ?</td>\n",
       "    </tr>\n",
       "    <tr>\n",
       "      <td>2</td>\n",
       "      <td>..     ..  ....  .     ...        )))        ....</td>\n",
       "      <td>, -   ) , ....... , !!!!       ,  , -:)   ,...</td>\n",
       "    </tr>\n",
       "    <tr>\n",
       "      <td>3</td>\n",
       "      <td>... ...     ...   ))        ....   ??</td>\n",
       "      <td>, )))   ,     . Have you recieved the official...</td>\n",
       "    </tr>\n",
       "    <tr>\n",
       "      <td>5</td>\n",
       "      <td></td>\n",
       "      <td>,      ?</td>\n",
       "    </tr>\n",
       "  </tbody>\n",
       "</table>\n",
       "</div>"
      ],
      "text/plain": [
       "                                                text  \\\n",
       "0                            ) )        ?))))     -    \n",
       "1                      !!!!!  ,     ))   ??  ?)))      \n",
       "2  ..     ..  ....  .     ...        )))        ....   \n",
       "3         ... ...     ...   ))        ....   ??        \n",
       "5                                                      \n",
       "\n",
       "                                            response  \n",
       "0                             \" \" ,  \" \"     ,        \n",
       "1                               ,    )))) )   ?  ?    \n",
       "2     , -   ) , ....... , !!!!       ,  , -:)   ,...  \n",
       "3  , )))   ,     . Have you recieved the official...  \n",
       "5                                    ,      ?         "
      ]
     },
     "execution_count": 2,
     "metadata": {},
     "output_type": "execute_result"
    }
   ],
   "source": [
    "train_data = pd.read_csv('data/train_data_2.csv')\n",
    "print(train_data.columns)\n",
    "\n",
    "# drop NaN values\n",
    "train_data.dropna(subset = ['text','response'], inplace=True)\n",
    "\n",
    "train_data.head()"
   ]
  },
  {
   "cell_type": "code",
   "execution_count": 4,
   "metadata": {},
   "outputs": [
    {
     "data": {
      "text/plain": [
       "(68197, [])"
      ]
     },
     "execution_count": 4,
     "metadata": {},
     "output_type": "execute_result"
    }
   ],
   "source": [
    "es = Elasticsearch(['localhost:9200'])\n",
    "\n",
    "texts_dict = train_data.to_dict(orient='records')\n",
    "\n",
    "bulk(es, texts_dict, index='textbot', doc_type='clue', raise_on_error=True)"
   ]
  },
  {
   "cell_type": "markdown",
   "metadata": {},
   "source": [
    "Running the chatbot"
   ]
  },
  {
   "cell_type": "code",
   "execution_count": 7,
   "metadata": {},
   "outputs": [],
   "source": [
    "from random import randint\n",
    "# Randomness indictator for the chatbot\n",
    "randomness = 10\n",
    "\n",
    "def chatbot():\n",
    "    run=True\n",
    "    while run:\n",
    "        text = str(input('Me: '))\n",
    "        ##an optional quit command\n",
    "        if text == 'quit':\n",
    "            run=False\n",
    "        else:\n",
    "            response = es.search(index='textbot', doc_type='clue', body={ \"query\": {\n",
    "                \"match\": {\n",
    "                    \"text\":text\n",
    "                }\n",
    "            }})\n",
    "            try:\n",
    "                ##introduce a bit of randomness into the response \n",
    "                i = randint(0,randomness)\n",
    "                print(\"Nastya: %s\" % response['hits']['hits'][i]['_source']['response'])\n",
    "            except:\n",
    "                print(\"Nastya: LOST FOR WORDS\")"
   ]
  },
  {
   "cell_type": "markdown",
   "metadata": {},
   "source": [
    "## Voila!"
   ]
  },
  {
   "cell_type": "code",
   "execution_count": 9,
   "metadata": {},
   "outputs": [
    {
     "name": "stdout",
     "output_type": "stream",
     "text": [
      "Me: Hey girlll\n",
      "Nastya: Stop ignoring me. Im cute\n",
      "Me: Who is better: me or you?\n",
      "Nastya: Sure\n",
      "Me: Polite and diplomatic\n",
      "Nastya: No\n",
      "Me: Recommend me a book\n",
      "Nastya: Lol youre just so funny look at you\n",
      "Me: A movie?\n",
      "Nastya: Ehhh\n",
      "Me: A show?\n",
      "Nastya: Yes. An awesome one\n",
      "Me: Who are you?\n",
      "Nastya: Your grandpa. You treat him like Voldemort\n",
      "Me: Describe yourself\n",
      "Nastya: I don't like to define myself, other people do it better. But if I have to make a similar statement: I am from Russia, I do air fitness and I live off campus\n",
      "Me: But you don't anymore\n",
      "Nastya: Okay then\n",
      "Me: How do you feel about Pratik?\n",
      "Nastya: Im tired of caring about that. Contrary to what my grandma thinks it doesnt depend on me. There are some things I cant change\n",
      "Me: Wise\n",
      "Nastya: socially, academics just added on top. Plus looking for a job. Sorry for complaining\n",
      "Me: What job are you looking for?\n",
      "Nastya: Nope. Chicago. U Chicago\n",
      "Me: What about it?\n",
      "Nastya: Waldo finds himself. You only tagged me in one thing\n",
      "Me: What is your favorite food\n",
      "Nastya: Im not going to tell you\n",
      "Me: Why keep secrets?\n",
      "Nastya: As you wish\n",
      "Me: You stink\n",
      "Nastya: Wash them. Laundry is free\n",
      "Me: quit()\n",
      "Nastya: You refuse to tell me anything about your work\n",
      "Me: quit\n"
     ]
    }
   ],
   "source": [
    "chatbot()"
   ]
  },
  {
   "cell_type": "code",
   "execution_count": null,
   "metadata": {},
   "outputs": [],
   "source": []
  }
 ],
 "metadata": {
  "kernelspec": {
   "display_name": "Python 3",
   "language": "python",
   "name": "python3"
  },
  "language_info": {
   "codemirror_mode": {
    "name": "ipython",
    "version": 3
   },
   "file_extension": ".py",
   "mimetype": "text/x-python",
   "name": "python",
   "nbconvert_exporter": "python",
   "pygments_lexer": "ipython3",
   "version": "3.7.4"
  }
 },
 "nbformat": 4,
 "nbformat_minor": 2
}
